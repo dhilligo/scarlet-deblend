{
 "cells": [
  {
   "cell_type": "code",
   "execution_count": 4,
   "metadata": {},
   "outputs": [],
   "source": [
    "import logging\n",
    "\n",
    "import astropy as ast\n",
    "\n",
    "import numpy as np\n",
    "import pickle\n",
    "\n",
    "\n",
    "%matplotlib inline\n",
    "import matplotlib\n",
    "import matplotlib.pyplot as plt\n",
    "from scipy.ndimage import gaussian_filter"
   ]
  },
  {
   "cell_type": "code",
   "execution_count": 5,
   "metadata": {},
   "outputs": [
    {
     "data": {
      "image/png": "[encoded data removed]",
      "text/plain": [
       "<Figure size 432x288 with 1 Axes>"
      ]
     },
     "metadata": {},
     "output_type": "display_data"
    }
   ],
   "source": [
    "#Creates empty nx by ny array\n",
    "nx , ny = 100 , 100\n",
    "image = np.zeros((ny , nx))\n",
    "\n",
    "#Sets number of stars\n",
    "n = 10\n",
    "\n",
    "np.random.seed(5)\n",
    "#Sets random positions\n",
    "r = np.random.random(n) * nx\n",
    "theta = np.random.uniform(0., 2. * np.pi, n)\n",
    "\n",
    "#Creates random fluxes\n",
    "f = [100] * n * np.random.random(n) #** 2\n",
    "\n",
    "#Computes the random positions\n",
    "x = nx / 2 + r * np.cos(theta)\n",
    "y = ny / 2 + r * np.sin(theta)\n",
    "\n",
    "ax = plt.figure().add_subplot(111)\n",
    "ax.set_aspect('equal')\n",
    "plt.plot(x, y, '.')\n",
    "plt.xlim(0, nx)\n",
    "plt.ylim(0, ny)\n",
    "plt.title(\"image location\")\n",
    "\n",
    "\n",
    "with open('data.pickle', 'wb') as file_obj:\n",
    "    pickle.dump((image, x, y, f), file_obj)\n",
    "\n",
    "#Adding 'stars' over the array\n",
    "for i in range(n):\n",
    "    if x[i]>=0 and x[i]<=nx and y[i] >= 0 and y[i] < ny:\n",
    "        image[int(y[i]), int(x[i])] += f[i]\n",
    "\n",
    "#Makes each star a gaussian\n",
    "image = gaussian_filter(image, 1)        \n",
    "#image = my_gaussian(nx,ny,x,y,1)\n"
   ]
  },
  {
   "cell_type": "code",
   "execution_count": 6,
   "metadata": {},
   "outputs": [
    {
     "data": {
      "image/png": "[encoded data removed]",
      "text/plain": [
       "<Figure size 432x288 with 1 Axes>"
      ]
     },
     "metadata": {},
     "output_type": "display_data"
    }
   ],
   "source": [
    "#Adds noise\n",
    "#image += np.random.normal(3., 0.01, image.shape)\n",
    "np.save(\"fake2.npy\" , image)\n",
    "#Shows image\n",
    "plt.imshow(image, interpolation='nearest')\n",
    "plt.savefig('fake2.jpeg')\n",
    "plt.show()"
   ]
  }
 ],
 "metadata": {
  "kernelspec": {
   "display_name": "Python 3",
   "language": "python",
   "name": "python3"
  },
  "language_info": {
   "codemirror_mode": {
    "name": "ipython",
    "version": 3
   },
   "file_extension": ".py",
   "mimetype": "text/x-python",
   "name": "python",
   "nbconvert_exporter": "python",
   "pygments_lexer": "ipython3",
   "version": "3.6.5"
  }
 },
 "nbformat": 4,
 "nbformat_minor": 2
}
