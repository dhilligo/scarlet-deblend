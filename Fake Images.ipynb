{
 "cells": [
  {
   "cell_type": "code",
   "execution_count": 1,
   "metadata": {
    "ExecuteTime": {
     "end_time": "2018-11-23T20:08:02.425227Z",
     "start_time": "2018-11-23T20:08:01.510429Z"
    },
    "run_control": {
     "frozen": false,
     "read_only": false
    }
   },
   "outputs": [],
   "source": [
    "import logging\n",
    "\n",
    "import astropy as ast\n",
    "\n",
    "import numpy as np\n",
    "import pickle\n",
    "\n",
    "\n",
    "%matplotlib inline\n",
    "import matplotlib\n",
    "import matplotlib.pyplot as plt\n",
    "from scipy.ndimage import gaussian_filter"
   ]
  },
  {
   "cell_type": "code",
   "execution_count": 2,
   "metadata": {
    "ExecuteTime": {
     "end_time": "2018-11-23T20:08:02.451308Z",
     "start_time": "2018-11-23T20:08:02.428778Z"
    },
    "run_control": {
     "frozen": false,
     "read_only": false
    }
   },
   "outputs": [],
   "source": [
    "def make_array_with_background(nsizearray,background):\n",
    "    myarray = np.zeros(nsizearray) + background\n",
    "    return myarray"
   ]
  },
  {
   "cell_type": "code",
   "execution_count": 3,
   "metadata": {
    "ExecuteTime": {
     "end_time": "2018-11-23T20:08:02.463406Z",
     "start_time": "2018-11-23T20:08:02.455815Z"
    },
    "run_control": {
     "frozen": false,
     "read_only": false
    }
   },
   "outputs": [],
   "source": [
    "def my_gaussian(x, y, meanx, meany, sigma):\n",
    "    gaussian = ((1/(np.sqrt(2*np.pi*sigma**2))*np.exp(-(x-meanx)**2/(2*sigma**2))) * (1/(np.sqrt(2*np.pi*sigma**2))*np.exp(-(y-meany)**2/(2*sigma**2))))\n",
    "    return gaussian"
   ]
  },
  {
   "cell_type": "code",
   "execution_count": 43,
   "metadata": {
    "ExecuteTime": {
     "end_time": "2018-11-23T20:24:19.260822Z",
     "start_time": "2018-11-23T20:24:18.951661Z"
    },
    "run_control": {
     "frozen": false,
     "read_only": false
    }
   },
   "outputs": [
    {
     "data": {
      "image/png": "[encoded data removed]",
      "text/plain": [
       "<Figure size 432x288 with 1 Axes>"
      ]
     },
     "metadata": {},
     "output_type": "display_data"
    }
   ],
   "source": [
    "#Creates empty nx by ny array\n",
    "nx , ny = 100 , 100\n",
    "image = np.zeros((ny , nx))\n",
    "\n",
    "#Sets number of stars\n",
    "n = 100\n",
    "\n",
    "np.random.seed(5)\n",
    "#Sets random positions\n",
    "r = np.random.random(n) * nx\n",
    "theta = np.random.uniform(0., 2. * np.pi, n)\n",
    "\n",
    "#Creates random fluxes\n",
    "f = [100] * n * np.random.random(n) #** 2\n",
    "\n",
    "#Computes the random positions\n",
    "x = nx / 2 + r * np.cos(theta)\n",
    "y = ny / 2 + r * np.sin(theta)\n",
    "\n",
    "ax = plt.figure().add_subplot(111)\n",
    "ax.set_aspect('equal')\n",
    "plt.plot(x, y, '.')\n",
    "plt.xlim(0, nx)\n",
    "plt.ylim(0, ny)\n",
    "plt.title(\"image location\")\n",
    "\n",
    "\n",
    "with open('data.pickle', 'wb') as file_obj:\n",
    "    pickle.dump((image, x, y, f), file_obj)\n",
    "\n",
    "#Adding 'stars' over the array\n",
    "for i in range(n):\n",
    "    if x[i]>=0 and x[i]<=nx and y[i] >= 0 and y[i] < ny:\n",
    "        image[int(y[i]), int(x[i])] += f[i]\n",
    "\n",
    "#Makes each star a gaussian\n",
    "image = gaussian_filter(image, 1)        \n",
    "#image = my_gaussian(nx,ny,x,y,1)"
   ]
  },
  {
   "cell_type": "code",
   "execution_count": 44,
   "metadata": {
    "ExecuteTime": {
     "end_time": "2018-11-23T20:24:20.228332Z",
     "start_time": "2018-11-23T20:24:19.922401Z"
    },
    "run_control": {
     "frozen": false,
     "read_only": false
    }
   },
   "outputs": [
    {
     "data": {
      "image/png": "[encoded data removed]",
      "text/plain": [
       "<Figure size 432x288 with 1 Axes>"
      ]
     },
     "metadata": {},
     "output_type": "display_data"
    }
   ],
   "source": [
    "#Adds noise\n",
    "#image += np.random.normal(3., 0.01, image.shape)\n",
    "np.save(\"fake1.npy\" , image)\n",
    "#Shows image\n",
    "plt.imshow(image, interpolation='nearest')\n",
    "plt.savefig('fake1.jpeg')\n",
    "plt.show()"
   ]
  },
  {
   "cell_type": "code",
   "execution_count": null,
   "metadata": {
    "run_control": {
     "frozen": false,
     "read_only": false
    }
   },
   "outputs": [],
   "source": []
  },
  {
   "cell_type": "code",
   "execution_count": null,
   "metadata": {},
   "outputs": [],
   "source": []
  },
  {
   "cell_type": "code",
   "execution_count": null,
   "metadata": {},
   "outputs": [],
   "source": []
  }
 ],
 "metadata": {
  "kernelspec": {
   "display_name": "Python 3",
   "language": "python",
   "name": "python3"
  },
  "language_info": {
   "codemirror_mode": {
    "name": "ipython",
    "version": 3
   },
   "file_extension": ".py",
   "mimetype": "text/x-python",
   "name": "python",
   "nbconvert_exporter": "python",
   "pygments_lexer": "ipython3",
   "version": "3.6.3"
  },
  "toc": {
   "colors": {
    "hover_highlight": "#DAA520",
    "running_highlight": "#FF0000",
    "selected_highlight": "#FFD700"
   },
   "moveMenuLeft": true,
   "nav_menu": {
    "height": "0.03125px",
    "width": "250.03125px"
   },
   "navigate_menu": true,
   "number_sections": true,
   "sideBar": true,
   "threshold": 4,
   "toc_cell": false,
   "toc_section_display": "block",
   "toc_window_display": false
  }
 },
 "nbformat": 4,
 "nbformat_minor": 2
}
