{
 "cells": [
  {
   "cell_type": "markdown",
   "metadata": {},
   "source": [
    "# Import packages"
   ]
  },
  {
   "cell_type": "code",
   "execution_count": 17,
   "metadata": {},
   "outputs": [],
   "source": [
    "#Fred Moolekamp Code\n",
    "# Import Packages and setup\n",
    "import logging\n",
    "import os\n",
    "\n",
    "import numpy as np\n",
    "\n",
    "import scarlet\n",
    "import scarlet.display\n",
    "from scarlet.config import Normalization\n",
    "\n",
    "# For display purposes\n",
    "%matplotlib inline\n",
    "import matplotlib\n",
    "import matplotlib.pyplot as plt\n",
    "# use a better colormap and don't interpolate the pixels\n",
    "matplotlib.rc('image', cmap='inferno')\n",
    "matplotlib.rc('image', interpolation='none')"
   ]
  },
  {
   "cell_type": "markdown",
   "metadata": {},
   "source": [
    "# Load and display the data"
   ]
  },
  {
   "cell_type": "code",
   "execution_count": 18,
   "metadata": {},
   "outputs": [
    {
     "ename": "IORegistryError",
     "evalue": "Format could not be identified.\nThe available formats are:\n           Format           Read Write Auto-identify Deprecated\n--------------------------- ---- ----- ------------- ----------\n                      ascii  Yes   Yes            No           \n               ascii.aastex  Yes   Yes            No           \n                ascii.basic  Yes   Yes            No           \n                  ascii.cds  Yes    No            No           \n     ascii.commented_header  Yes   Yes            No           \n                  ascii.csv  Yes   Yes            No           \n              ascii.daophot  Yes    No            No           \n                 ascii.ecsv  Yes   Yes           Yes           \n           ascii.fast_basic  Yes   Yes            No           \nascii.fast_commented_header  Yes   Yes            No           \n             ascii.fast_csv  Yes   Yes            No           \n       ascii.fast_no_header  Yes   Yes            No           \n             ascii.fast_rdb  Yes   Yes            No           \n             ascii.fast_tab  Yes   Yes            No           \n          ascii.fixed_width  Yes   Yes            No           \nascii.fixed_width_no_header  Yes   Yes            No           \n ascii.fixed_width_two_line  Yes   Yes            No           \n                 ascii.html  Yes   Yes           Yes           \n                 ascii.ipac  Yes   Yes            No           \n                ascii.latex  Yes   Yes           Yes           \n            ascii.no_header  Yes   Yes            No           \n                  ascii.rdb  Yes   Yes           Yes           \n                  ascii.rst  Yes   Yes            No           \n           ascii.sextractor  Yes    No            No           \n                  ascii.tab  Yes   Yes            No           \n                       fits  Yes   Yes           Yes           \n                       hdf5  Yes   Yes           Yes           \n                    votable  Yes   Yes           Yes           \n                     aastex  Yes   Yes            No        Yes\n                        cds  Yes    No            No        Yes\n                        csv  Yes   Yes           Yes        Yes\n                    daophot  Yes    No            No        Yes\n                       html  Yes   Yes            No        Yes\n                       ipac  Yes   Yes            No        Yes\n                      latex  Yes   Yes            No        Yes\n                        rdb  Yes   Yes            No        Yes",
     "output_type": "error",
     "traceback": [
      "\u001b[0;31m---------------------------------------------------------------------------\u001b[0m",
      "\u001b[0;31mIORegistryError\u001b[0m                           Traceback (most recent call last)",
      "\u001b[0;32m<ipython-input-18-1d885efd97f5>\u001b[0m in \u001b[0;36m<module>\u001b[0;34m()\u001b[0m\n\u001b[1;32m     16\u001b[0m \u001b[0;34m\u001b[0m\u001b[0m\n\u001b[1;32m     17\u001b[0m \u001b[0;32mfrom\u001b[0m \u001b[0mastropy\u001b[0m\u001b[0;34m.\u001b[0m\u001b[0mtable\u001b[0m \u001b[0;32mimport\u001b[0m \u001b[0mTable\u001b[0m \u001b[0;32mas\u001b[0m \u001b[0mApTable\u001b[0m\u001b[0;34m\u001b[0m\u001b[0m\n\u001b[0;32m---> 18\u001b[0;31m \u001b[0mcatalog\u001b[0m \u001b[0;34m=\u001b[0m \u001b[0mApTable\u001b[0m\u001b[0;34m.\u001b[0m\u001b[0mread\u001b[0m\u001b[0;34m(\u001b[0m\u001b[0mos\u001b[0m\u001b[0;34m.\u001b[0m\u001b[0mpath\u001b[0m\u001b[0;34m.\u001b[0m\u001b[0mjoin\u001b[0m\u001b[0;34m(\u001b[0m\u001b[0mdatapath\u001b[0m\u001b[0;34m,\u001b[0m \u001b[0;34m\"true_catalog_{0}.fits\"\u001b[0m\u001b[0;34m.\u001b[0m\u001b[0mformat\u001b[0m\u001b[0;34m(\u001b[0m\u001b[0midx\u001b[0m\u001b[0;34m)\u001b[0m\u001b[0;34m)\u001b[0m\u001b[0;34m)\u001b[0m\u001b[0;34m\u001b[0m\u001b[0m\n\u001b[0m\u001b[1;32m     19\u001b[0m \u001b[0;31m# Only use a single component for each source\u001b[0m\u001b[0;34m\u001b[0m\u001b[0;34m\u001b[0m\u001b[0m\n\u001b[1;32m     20\u001b[0m \u001b[0mcatalog\u001b[0m \u001b[0;34m=\u001b[0m \u001b[0mcatalog\u001b[0m\u001b[0;34m[\u001b[0m\u001b[0mcatalog\u001b[0m\u001b[0;34m[\u001b[0m\u001b[0;34m\"component\"\u001b[0m\u001b[0;34m]\u001b[0m\u001b[0;34m!=\u001b[0m\u001b[0;34m\"disk\"\u001b[0m\u001b[0;34m]\u001b[0m\u001b[0;34m\u001b[0m\u001b[0m\n",
      "\u001b[0;32m/anaconda3/lib/python3.6/site-packages/astropy/table/table.py\u001b[0m in \u001b[0;36mread\u001b[0;34m(cls, *args, **kwargs)\u001b[0m\n\u001b[1;32m   2529\u001b[0m         \u001b[0mpassed\u001b[0m \u001b[0mthrough\u001b[0m \u001b[0mto\u001b[0m \u001b[0mthe\u001b[0m \u001b[0munderlying\u001b[0m \u001b[0mdata\u001b[0m \u001b[0mreader\u001b[0m \u001b[0;34m(\u001b[0m\u001b[0me\u001b[0m\u001b[0;34m.\u001b[0m\u001b[0mg\u001b[0m\u001b[0;34m.\u001b[0m\u001b[0;31m \u001b[0m\u001b[0;31m`\u001b[0m\u001b[0;34m~\u001b[0m\u001b[0mastropy\u001b[0m\u001b[0;34m.\u001b[0m\u001b[0mio\u001b[0m\u001b[0;34m.\u001b[0m\u001b[0mascii\u001b[0m\u001b[0;34m.\u001b[0m\u001b[0mread\u001b[0m\u001b[0;31m`\u001b[0m\u001b[0;34m)\u001b[0m\u001b[0;34m.\u001b[0m\u001b[0;34m\u001b[0m\u001b[0m\n\u001b[1;32m   2530\u001b[0m         \"\"\"\n\u001b[0;32m-> 2531\u001b[0;31m         \u001b[0mout\u001b[0m \u001b[0;34m=\u001b[0m \u001b[0mio_registry\u001b[0m\u001b[0;34m.\u001b[0m\u001b[0mread\u001b[0m\u001b[0;34m(\u001b[0m\u001b[0mcls\u001b[0m\u001b[0;34m,\u001b[0m \u001b[0;34m*\u001b[0m\u001b[0margs\u001b[0m\u001b[0;34m,\u001b[0m \u001b[0;34m**\u001b[0m\u001b[0mkwargs\u001b[0m\u001b[0;34m)\u001b[0m\u001b[0;34m\u001b[0m\u001b[0m\n\u001b[0m\u001b[1;32m   2532\u001b[0m         \u001b[0;31m# For some readers (e.g., ascii.ecsv), the returned `out` class is not\u001b[0m\u001b[0;34m\u001b[0m\u001b[0;34m\u001b[0m\u001b[0m\n\u001b[1;32m   2533\u001b[0m         \u001b[0;31m# guaranteed to be the same as the desired output `cls`.  If so,\u001b[0m\u001b[0;34m\u001b[0m\u001b[0;34m\u001b[0m\u001b[0m\n",
      "\u001b[0;32m/anaconda3/lib/python3.6/site-packages/astropy/io/registry.py\u001b[0m in \u001b[0;36mread\u001b[0;34m(cls, format, *args, **kwargs)\u001b[0m\n\u001b[1;32m    512\u001b[0m \u001b[0;34m\u001b[0m\u001b[0m\n\u001b[1;32m    513\u001b[0m             format = _get_valid_format(\n\u001b[0;32m--> 514\u001b[0;31m                 'read', cls, path, fileobj, args, kwargs)\n\u001b[0m\u001b[1;32m    515\u001b[0m \u001b[0;34m\u001b[0m\u001b[0m\n\u001b[1;32m    516\u001b[0m         \u001b[0mreader\u001b[0m \u001b[0;34m=\u001b[0m \u001b[0mget_reader\u001b[0m\u001b[0;34m(\u001b[0m\u001b[0mformat\u001b[0m\u001b[0;34m,\u001b[0m \u001b[0mcls\u001b[0m\u001b[0;34m)\u001b[0m\u001b[0;34m\u001b[0m\u001b[0m\n",
      "\u001b[0;32m/anaconda3/lib/python3.6/site-packages/astropy/io/registry.py\u001b[0m in \u001b[0;36m_get_valid_format\u001b[0;34m(mode, cls, path, fileobj, args, kwargs)\u001b[0m\n\u001b[1;32m    593\u001b[0m         raise IORegistryError(\"Format could not be identified.\\n\"\n\u001b[1;32m    594\u001b[0m                               \u001b[0;34m\"The available formats are:\\n\"\u001b[0m\u001b[0;34m\u001b[0m\u001b[0m\n\u001b[0;32m--> 595\u001b[0;31m                               \"{0}\".format(format_table_str))\n\u001b[0m\u001b[1;32m    596\u001b[0m     \u001b[0;32melif\u001b[0m \u001b[0mlen\u001b[0m\u001b[0;34m(\u001b[0m\u001b[0mvalid_formats\u001b[0m\u001b[0;34m)\u001b[0m \u001b[0;34m>\u001b[0m \u001b[0;36m1\u001b[0m\u001b[0;34m:\u001b[0m\u001b[0;34m\u001b[0m\u001b[0m\n\u001b[1;32m    597\u001b[0m         raise IORegistryError(\n",
      "\u001b[0;31mIORegistryError\u001b[0m: Format could not be identified.\nThe available formats are:\n           Format           Read Write Auto-identify Deprecated\n--------------------------- ---- ----- ------------- ----------\n                      ascii  Yes   Yes            No           \n               ascii.aastex  Yes   Yes            No           \n                ascii.basic  Yes   Yes            No           \n                  ascii.cds  Yes    No            No           \n     ascii.commented_header  Yes   Yes            No           \n                  ascii.csv  Yes   Yes            No           \n              ascii.daophot  Yes    No            No           \n                 ascii.ecsv  Yes   Yes           Yes           \n           ascii.fast_basic  Yes   Yes            No           \nascii.fast_commented_header  Yes   Yes            No           \n             ascii.fast_csv  Yes   Yes            No           \n       ascii.fast_no_header  Yes   Yes            No           \n             ascii.fast_rdb  Yes   Yes            No           \n             ascii.fast_tab  Yes   Yes            No           \n          ascii.fixed_width  Yes   Yes            No           \nascii.fixed_width_no_header  Yes   Yes            No           \n ascii.fixed_width_two_line  Yes   Yes            No           \n                 ascii.html  Yes   Yes           Yes           \n                 ascii.ipac  Yes   Yes            No           \n                ascii.latex  Yes   Yes           Yes           \n            ascii.no_header  Yes   Yes            No           \n                  ascii.rdb  Yes   Yes           Yes           \n                  ascii.rst  Yes   Yes            No           \n           ascii.sextractor  Yes    No            No           \n                  ascii.tab  Yes   Yes            No           \n                       fits  Yes   Yes           Yes           \n                       hdf5  Yes   Yes           Yes           \n                    votable  Yes   Yes           Yes           \n                     aastex  Yes   Yes            No        Yes\n                        cds  Yes    No            No        Yes\n                        csv  Yes   Yes           Yes        Yes\n                    daophot  Yes    No            No        Yes\n                       html  Yes   Yes            No        Yes\n                       ipac  Yes   Yes            No        Yes\n                      latex  Yes   Yes            No        Yes\n                        rdb  Yes   Yes            No        Yes"
     ]
    }
   ],
   "source": [
    "# This uses data from the testdata_deblender package, available at\n",
    "# https://github.com/lsst/testdata_deblender\n",
    "# You don't have to actually install the package, which requires the entire\n",
    "# LSST stack, but you have to clone it from github\n",
    "# Changing `idx` modifies the \n",
    "idx = 4\n",
    "filter_indices = [3,2,1]\n",
    "# Use this to point to the location of the data on your system\n",
    "datapath = \"Users/dylanhilligoss/Desktop/testdata_deblender/sim_data/unmatched_sim\"\n",
    "# Uncomment the following line to use PSF matched images\n",
    "datapath = \"/Users/dylanhilligoss/Desktop/testdata_deblender/sim_data/psf_matched_sim\"\n",
    "psfs = np.load(os.path.join(datapath, \"psfs.npz\"))[\"psfs\"]\n",
    "data = np.load(os.path.join(datapath, \"images_{0}.npz\".format(idx)))\n",
    "images = data[\"images\"]\n",
    "filters = data[\"filters\"]\n",
    "\n",
    "from astropy.table import Table as ApTable\n",
    "catalog = ApTable.read(os.path.join(datapath, \"true_catalog_{0}.fits\".format(idx)))\n",
    "# Only use a single component for each source\n",
    "catalog = catalog[catalog[\"component\"]!=\"disk\"]\n",
    "bg_rms = np.array([20]*len(images))\n",
    "\n",
    "# display psfs\n",
    "pnorm = scarlet.display.Asinh(img=psfs, Q=20)\n",
    "prgb = scarlet.display.img_to_rgb(psfs, filter_indices=filter_indices, norm=pnorm)\n",
    "plt.imshow(prgb)\n",
    "plt.show()\n",
    "\n",
    "# Use Asinh scaling for the images\n",
    "norm = scarlet.display.Asinh(img=images, Q=20)\n",
    "# Map i,r,g -> RGB\n",
    "# Convert the image to an RGB image\n",
    "img_rgb = scarlet.display.img_to_rgb(images, filter_indices=filter_indices, norm=norm)\n",
    "plt.imshow(img_rgb)\n",
    "for src in catalog:\n",
    "    if src[\"is_star\"]:\n",
    "        plt.plot(src[\"x\"], src[\"y\"], \"rx\", mew=2)\n",
    "    else:\n",
    "        plt.plot(src[\"x\"], src[\"y\"], \"bx\", mew=2)\n",
    "plt.show()"
   ]
  },
  {
   "cell_type": "markdown",
   "metadata": {},
   "source": [
    "# Fit the PSFs"
   ]
  },
  {
   "cell_type": "code",
   "execution_count": null,
   "metadata": {},
   "outputs": [],
   "source": [
    "# Get the target PSF to partially deconvolve the image psfs\n",
    "target_psf = scarlet.psf_match.fit_target_psf(psfs, scarlet.psf_match.moffat)\n",
    "# Display the target PSF\n",
    "plt.imshow(target_psf,norm=scarlet.display.Asinh(img=target_psf))\n",
    "plt.show()\n",
    "# Match each PSF to the target PSF\n",
    "diff_kernels, psf_blend = scarlet.psf_match.build_diff_kernels(psfs, target_psf)"
   ]
  },
  {
   "cell_type": "markdown",
   "metadata": {},
   "source": [
    "# Initialize the source as Point Source"
   ]
  },
  {
   "cell_type": "code",
   "execution_count": null,
   "metadata": {
    "scrolled": true
   },
   "outputs": [],
   "source": [
    "import scarlet.constraint as sc\n",
    "\n",
    "# You must turn off acceleration and set the normalization to Normalization.S for this\n",
    "# to work properly.\n",
    "config = scarlet.config.Config(refine_skip=2, accelerated=False, normalization=Normalization.S)\n",
    "\n",
    "# This is the constraint to use for a point source, which doesn't\n",
    "# require the more complicated constraints used for extended sources\n",
    "constraints = (\n",
    "    sc.SimpleConstraint(config.normalization)\n",
    ")\n",
    "\n",
    "# The key here is to set `fix_morph` to true, which tells it to always use the\n",
    "# initial morphology, which in this case is a single point that is later convolced\n",
    "# with the PSF to generate the model.\n",
    "sources = [\n",
    "    scarlet.PointSource(\n",
    "        (src['y'],src['x']), # Note the y coordinate comes first\n",
    "        images,\n",
    "        constraints=constraints, # use the correct constraints\n",
    "        psf=psfs, # only required if the images aren't already PSF matched\n",
    "        shape=psfs[0].shape,\n",
    "        fix_morph=True, # This is required to model a point source\n",
    "        config=config)\n",
    "    for src in catalog\n",
    "]\n",
    "\n",
    "# Initialize the Blend object, which later fits the model\n",
    "blend = scarlet.Blend(sources)\n",
    "blend.set_data(images, bg_rms=bg_rms, config=config)\n",
    "\n",
    "# Display the initial model\n",
    "model = blend.get_model()\n",
    "img_rgb = scarlet.display.img_to_rgb(model, filter_indices=[3,2,1], norm=norm)\n",
    "plt.imshow(img_rgb)\n",
    "plt.show()"
   ]
  },
  {
   "cell_type": "markdown",
   "metadata": {},
   "source": [
    "# Fit the model and display the results"
   ]
  },
  {
   "cell_type": "code",
   "execution_count": null,
   "metadata": {},
   "outputs": [],
   "source": [
    "blend.fit(100)\n",
    "print(\"Fit for {0} iterations\".format(blend.it))\n",
    "\n",
    "\n",
    "\n",
    "plt.show()"
   ]
  },
  {
   "cell_type": "code",
   "execution_count": null,
   "metadata": {},
   "outputs": [],
   "source": [
    "fig = plt.figure(figsize=(15,5))\n",
    "ax = [fig.add_subplot(1,3,n+1) for n in range(3)]\n",
    "\n",
    "# Display the data\n",
    "img_rgb = scarlet.display.img_to_rgb(images, filter_indices=filter_indices, norm=norm)\n",
    "ax[0].imshow(img_rgb)\n",
    "ax[0].set_title(\"Data\")\n",
    "for src in catalog:\n",
    "    if src[\"is_star\"]:\n",
    "        ax[0].plot(src[\"x\"], src[\"y\"], \"rx\", mew=2)\n",
    "    else:\n",
    "        ax[0].plot(src[\"x\"], src[\"y\"], \"bx\", mew=2)\n",
    "\n",
    "#Display the model\n",
    "model = blend.get_model()\n",
    "img_rgb = scarlet.display.img_to_rgb(model, filter_indices=[3,2,1], norm=norm)\n",
    "ax[1].imshow(img_rgb)\n",
    "ax[1].set_title(\"Model\")\n",
    "for src in catalog:\n",
    "    if src[\"is_star\"]:\n",
    "        ax[1].plot(src[\"x\"], src[\"y\"], \"rx\", mew=2)\n",
    "    else:\n",
    "        ax[1].plot(src[\"x\"], src[\"y\"], \"bx\", mew=2)\n",
    "\n",
    "# Display the residual\n",
    "residual = images-model\n",
    "img_rgb = scarlet.display.img_to_rgb(residual, filter_indices=filter_indices)\n",
    "ax[2].imshow(img_rgb)\n",
    "ax[2].set_title(\"Residual\")\n",
    "\n",
    "# Show the plots\n",
    "plt.show()"
   ]
  },
  {
   "cell_type": "code",
   "execution_count": null,
   "metadata": {},
   "outputs": [],
   "source": []
  }
 ],
 "metadata": {
  "kernelspec": {
   "display_name": "Python 3",
   "language": "python",
   "name": "python3"
  },
  "language_info": {
   "codemirror_mode": {
    "name": "ipython",
    "version": 3
   },
   "file_extension": ".py",
   "mimetype": "text/x-python",
   "name": "python",
   "nbconvert_exporter": "python",
   "pygments_lexer": "ipython3",
   "version": "3.6.5"
  }
 },
 "nbformat": 4,
 "nbformat_minor": 2
}
